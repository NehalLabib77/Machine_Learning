{
 "cells": [
  {
   "cell_type": "markdown",
   "id": "b4773ad8",
   "metadata": {},
   "source": [
    "**IMPORTING NUMPY**"
   ]
  },
  {
   "cell_type": "code",
   "execution_count": 162,
   "id": "98b105dc",
   "metadata": {},
   "outputs": [],
   "source": [
    "import numpy as np "
   ]
  },
  {
   "cell_type": "markdown",
   "id": "43095ce9",
   "metadata": {},
   "source": [
    "IN PYTHON INDEXING STARTS AT 0"
   ]
  },
  {
   "cell_type": "markdown",
   "id": "5c720ab0",
   "metadata": {},
   "source": [
    "**1D ARRAY(ROW)**"
   ]
  },
  {
   "cell_type": "code",
   "execution_count": 163,
   "id": "d67d6584",
   "metadata": {},
   "outputs": [
    {
     "name": "stdout",
     "output_type": "stream",
     "text": [
      "[1 2 3 4]\n"
     ]
    }
   ],
   "source": [
    "a = np.array([1,2,3,4],dtype = 'int32')\n",
    "print(a)"
   ]
  },
  {
   "cell_type": "markdown",
   "id": "b0432ae2",
   "metadata": {},
   "source": [
    "**2D ARRAY(ROW X COLUMN)**"
   ]
  },
  {
   "cell_type": "code",
   "execution_count": 164,
   "id": "d434fc1b",
   "metadata": {},
   "outputs": [
    {
     "name": "stdout",
     "output_type": "stream",
     "text": [
      "[[9. 8.]\n",
      " [6. 8.]]\n"
     ]
    }
   ],
   "source": [
    "b = np.array([[9.0,8.0],[6.0,8.0]])\n",
    "print(b)"
   ]
  },
  {
   "cell_type": "markdown",
   "id": "d4d6b9de",
   "metadata": {},
   "source": [
    "**GET DIMENTION**"
   ]
  },
  {
   "cell_type": "code",
   "execution_count": 165,
   "id": "d4a11378",
   "metadata": {},
   "outputs": [
    {
     "data": {
      "text/plain": [
       "(1, 2)"
      ]
     },
     "execution_count": 165,
     "metadata": {},
     "output_type": "execute_result"
    }
   ],
   "source": [
    "a.ndim, b.ndim"
   ]
  },
  {
   "cell_type": "markdown",
   "id": "db0f1d80",
   "metadata": {},
   "source": [
    "**GET SHAPE**"
   ]
  },
  {
   "cell_type": "code",
   "execution_count": 166,
   "id": "a5be5aad",
   "metadata": {},
   "outputs": [
    {
     "data": {
      "text/plain": [
       "((4,), (2, 2))"
      ]
     },
     "execution_count": 166,
     "metadata": {},
     "output_type": "execute_result"
    }
   ],
   "source": [
    "a.shape, b.shape"
   ]
  },
  {
   "cell_type": "markdown",
   "id": "b05a126f",
   "metadata": {},
   "source": [
    "**GET TYPE**"
   ]
  },
  {
   "cell_type": "code",
   "execution_count": 167,
   "id": "a59c89dc",
   "metadata": {},
   "outputs": [
    {
     "data": {
      "text/plain": [
       "(dtype('int32'), dtype('float64'))"
      ]
     },
     "execution_count": 167,
     "metadata": {},
     "output_type": "execute_result"
    }
   ],
   "source": [
    "a.dtype, b.dtype"
   ]
  },
  {
   "cell_type": "markdown",
   "id": "2bd02cbb",
   "metadata": {},
   "source": [
    "**SIZE OF EACH ELEMENTS**"
   ]
  },
  {
   "cell_type": "code",
   "execution_count": 168,
   "id": "9fac2c95",
   "metadata": {},
   "outputs": [
    {
     "data": {
      "text/plain": [
       "(4, 8)"
      ]
     },
     "execution_count": 168,
     "metadata": {},
     "output_type": "execute_result"
    }
   ],
   "source": [
    "a.itemsize, b.itemsize"
   ]
  },
  {
   "cell_type": "markdown",
   "id": "433e2420",
   "metadata": {},
   "source": [
    "**TOTAL SIZE = NUMBER OF ELEMENTS X SIZE OF EACH ELEMENT(IN BYTES)**"
   ]
  },
  {
   "cell_type": "code",
   "execution_count": 169,
   "id": "a4ebc2cc",
   "metadata": {},
   "outputs": [
    {
     "data": {
      "text/plain": [
       "(16, 32)"
      ]
     },
     "execution_count": 169,
     "metadata": {},
     "output_type": "execute_result"
    }
   ],
   "source": [
    "a.nbytes, b.nbytes"
   ]
  },
  {
   "cell_type": "markdown",
   "id": "960ac026",
   "metadata": {},
   "source": [
    "**ACCESSING/CHANGING SPECIFIC ELEMENTS, ROWS, COLUMNS, ETC**"
   ]
  },
  {
   "cell_type": "code",
   "execution_count": 170,
   "id": "940590cb",
   "metadata": {},
   "outputs": [
    {
     "name": "stdout",
     "output_type": "stream",
     "text": [
      "[[ 1  2  3  4  5  6  7]\n",
      " [ 8  9 10 11 12 13 14]]\n"
     ]
    }
   ],
   "source": [
    "a = np.array([[1,2,3,4,5,6,7],[8,9,10,11,12,13,14]])\n",
    "print(a)"
   ]
  },
  {
   "cell_type": "markdown",
   "id": "74c3367b",
   "metadata": {},
   "source": [
    "**GET A SPECIFIC ELEMENT [R, C]**"
   ]
  },
  {
   "cell_type": "code",
   "execution_count": 171,
   "id": "3361e56d",
   "metadata": {},
   "outputs": [
    {
     "data": {
      "text/plain": [
       "np.int64(13)"
      ]
     },
     "execution_count": 171,
     "metadata": {},
     "output_type": "execute_result"
    }
   ],
   "source": [
    "a[1,5]"
   ]
  },
  {
   "cell_type": "markdown",
   "id": "91438575",
   "metadata": {},
   "source": [
    "**GET A SPECIFIC ROW**"
   ]
  },
  {
   "cell_type": "code",
   "execution_count": 172,
   "id": "e717935a",
   "metadata": {},
   "outputs": [
    {
     "data": {
      "text/plain": [
       "array([1, 2, 3, 4, 5, 6, 7])"
      ]
     },
     "execution_count": 172,
     "metadata": {},
     "output_type": "execute_result"
    }
   ],
   "source": [
    "a[0,:]"
   ]
  },
  {
   "cell_type": "markdown",
   "id": "fd18112e",
   "metadata": {},
   "source": [
    "**GET A SPECIFIC COLUMN**"
   ]
  },
  {
   "cell_type": "code",
   "execution_count": 173,
   "id": "32ed706c",
   "metadata": {},
   "outputs": [
    {
     "data": {
      "text/plain": [
       "array([ 3, 10])"
      ]
     },
     "execution_count": 173,
     "metadata": {},
     "output_type": "execute_result"
    }
   ],
   "source": [
    "a[:,2]"
   ]
  },
  {
   "cell_type": "markdown",
   "id": "138404f0",
   "metadata": {},
   "source": [
    "**[ROW/COLUMN, START_INDEX : END_INDEX : STEP_SIZE]**"
   ]
  },
  {
   "cell_type": "code",
   "execution_count": 174,
   "id": "6efb12f1",
   "metadata": {},
   "outputs": [
    {
     "data": {
      "text/plain": [
       "(array([2, 4, 6]), array([2, 4, 6]))"
      ]
     },
     "execution_count": 174,
     "metadata": {},
     "output_type": "execute_result"
    }
   ],
   "source": [
    "a[0,1:6:2], a[0,1:-1:2]"
   ]
  },
  {
   "cell_type": "markdown",
   "id": "58f9d442",
   "metadata": {},
   "source": [
    "**CHANGE ELEMENTS**"
   ]
  },
  {
   "cell_type": "code",
   "execution_count": 175,
   "id": "3276384d",
   "metadata": {},
   "outputs": [
    {
     "name": "stdout",
     "output_type": "stream",
     "text": [
      "[[ 1  2  3  4  5  6  7]\n",
      " [ 8  9 10 11 12 20 14]]\n",
      "[[ 1  2  1  4  5  6  7]\n",
      " [ 8  9  1 11 12 20 14]]\n"
     ]
    }
   ],
   "source": [
    "a[1,5] = 20\n",
    "print(a)\n",
    "\n",
    "a[:,2] = [1,1]\n",
    "print(a)"
   ]
  },
  {
   "cell_type": "markdown",
   "id": "7c416fcb",
   "metadata": {},
   "source": [
    "**3D ARRAY (N_LAYER, LAYER_ROW, LAYER_COLUMN)**"
   ]
  },
  {
   "cell_type": "code",
   "execution_count": 176,
   "id": "c93c8416",
   "metadata": {},
   "outputs": [
    {
     "name": "stdout",
     "output_type": "stream",
     "text": [
      "[[[ 1  2  3]\n",
      "  [ 4  5  6]]\n",
      "\n",
      " [[ 7  8  9]\n",
      "  [10 11 12]]]\n"
     ]
    },
    {
     "data": {
      "text/plain": [
       "(None, (2, 2, 3))"
      ]
     },
     "execution_count": 176,
     "metadata": {},
     "output_type": "execute_result"
    }
   ],
   "source": [
    "c = np.array([[[1,2,3],[4,5,6]],[[7,8,9],[10,11,12]]])\n",
    "print(c), c.shape"
   ]
  },
  {
   "cell_type": "markdown",
   "id": "3c70f4e0",
   "metadata": {},
   "source": [
    "**GET SPECIFIC ELEMENT**"
   ]
  },
  {
   "cell_type": "code",
   "execution_count": 177,
   "id": "7c3c3ce4",
   "metadata": {},
   "outputs": [
    {
     "data": {
      "text/plain": [
       "(np.int64(6),\n",
       " array([[ 4,  5,  6],\n",
       "        [10, 11, 12]]))"
      ]
     },
     "execution_count": 177,
     "metadata": {},
     "output_type": "execute_result"
    }
   ],
   "source": [
    "c[0,1,2], c[:,1,:]"
   ]
  },
  {
   "cell_type": "markdown",
   "id": "0b82f4c6",
   "metadata": {},
   "source": [
    "**REPLACE**"
   ]
  },
  {
   "cell_type": "code",
   "execution_count": 178,
   "id": "42d84e94",
   "metadata": {},
   "outputs": [
    {
     "data": {
      "text/plain": [
       "array([[[1, 2, 3],\n",
       "        [4, 4, 4]],\n",
       "\n",
       "       [[7, 8, 9],\n",
       "        [5, 5, 5]]])"
      ]
     },
     "execution_count": 178,
     "metadata": {},
     "output_type": "execute_result"
    }
   ],
   "source": [
    "c[:,1,:] = [[4,4,4],[5,5,5]]\n",
    "c"
   ]
  },
  {
   "cell_type": "markdown",
   "id": "43c55de8",
   "metadata": {},
   "source": [
    "**INITIALIZING DIFFERENT TYPES OF ARRAYS**"
   ]
  }
 ],
 "metadata": {
  "kernelspec": {
   "display_name": "myenv",
   "language": "python",
   "name": "python3"
  },
  "language_info": {
   "codemirror_mode": {
    "name": "ipython",
    "version": 3
   },
   "file_extension": ".py",
   "mimetype": "text/x-python",
   "name": "python",
   "nbconvert_exporter": "python",
   "pygments_lexer": "ipython3",
   "version": "3.13.3"
  }
 },
 "nbformat": 4,
 "nbformat_minor": 5
}
