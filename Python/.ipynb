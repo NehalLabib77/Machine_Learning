{
 "cells": [
  {
   "cell_type": "markdown",
   "id": "271d730d",
   "metadata": {},
   "source": [
    "**VARIABLE**"
   ]
  },
  {
   "cell_type": "code",
   "execution_count": 24,
   "id": "afd75099",
   "metadata": {},
   "outputs": [
    {
     "name": "stdout",
     "output_type": "stream",
     "text": [
      "Noor Nehal Tanzim\n",
      "<class 'str'>\n",
      "22\n",
      "<class 'int'>\n",
      "5.8\n",
      "<class 'float'>\n",
      "True\n",
      "<class 'bool'>\n"
     ]
    }
   ],
   "source": [
    "# variables and data types\n",
    "\n",
    "name = \"Noor Nehal Tanzim\"\n",
    "age = 22\n",
    "height = 5.8 \n",
    "is_student = True\n",
    "\n",
    "print(name)\n",
    "print(type(name))\n",
    "\n",
    "print(age)\n",
    "print(type(age))\n",
    "\n",
    "print(height)\n",
    "print(type(height))\n",
    "\n",
    "print(is_student)\n",
    "print(type(is_student))"
   ]
  },
  {
   "cell_type": "markdown",
   "id": "8b62a77e",
   "metadata": {},
   "source": [
    "**BASIC ARITHMETIC**"
   ]
  },
  {
   "cell_type": "code",
   "execution_count": 25,
   "id": "fd4cf3ad",
   "metadata": {},
   "outputs": [
    {
     "name": "stdout",
     "output_type": "stream",
     "text": [
      "sum =  19\n",
      "difference =  11\n",
      "product =  60\n",
      "true division =  3.75\n",
      "floor division =  3\n",
      "remainder =  3\n",
      "power (a**b) : 50625\n"
     ]
    }
   ],
   "source": [
    "a = 15\n",
    "b = 4\n",
    "\n",
    "print('sum = ', a + b)\n",
    "print('difference = ', a - b)\n",
    "print('product = ', a * b)\n",
    "print('true division = ', a / b)\n",
    "print('floor division = ', a // b)\n",
    "print('remainder = ', a % b)\n",
    "print('power (a**b) :', a ** b)"
   ]
  },
  {
   "cell_type": "markdown",
   "id": "c4d729eb",
   "metadata": {},
   "source": [
    "**SIMPLE FUNCTION**"
   ]
  },
  {
   "cell_type": "code",
   "execution_count": 26,
   "id": "8be37a2b",
   "metadata": {},
   "outputs": [
    {
     "name": "stdout",
     "output_type": "stream",
     "text": [
      "Hello, Nehal!\n"
     ]
    }
   ],
   "source": [
    "def greet_user(n):\n",
    "    return f\"Hello, {n}!\"\n",
    "\n",
    "print(greet_user('Nehal'))"
   ]
  },
  {
   "cell_type": "markdown",
   "id": "99c24293",
   "metadata": {},
   "source": [
    "**CONDITIONALS**"
   ]
  },
  {
   "cell_type": "code",
   "execution_count": 27,
   "id": "70cffdd1",
   "metadata": {},
   "outputs": [
    {
     "name": "stdout",
     "output_type": "stream",
     "text": [
      "positive\n",
      "negative\n",
      "zero\n"
     ]
    }
   ],
   "source": [
    "def check_number(num):\n",
    "    if num > 0:\n",
    "        return 'positive'\n",
    "    elif num < 0:\n",
    "        return 'negative'\n",
    "    else:\n",
    "        return 'zero'\n",
    "\n",
    "print(check_number(5))\n",
    "print(check_number(-3))\n",
    "print(check_number(0))"
   ]
  },
  {
   "cell_type": "markdown",
   "id": "0b646019",
   "metadata": {},
   "source": [
    "**STRING OPERATIONS**"
   ]
  },
  {
   "cell_type": "code",
   "execution_count": 28,
   "id": "f02beadb",
   "metadata": {},
   "outputs": [
    {
     "name": "stdout",
     "output_type": "stream",
     "text": [
      "18\n",
      "PYTHON PROGRAMMING\n",
      "python programming\n",
      "Yes\n",
      "Python is fun\n"
     ]
    }
   ],
   "source": [
    "text = 'Python Programming'\n",
    "\n",
    "print(len(text))\n",
    "print(text.upper())\n",
    "print(text.lower())\n",
    "print('Yes' if text.startswith('Python') else 'No')\n",
    "print(text.replace('Programming', 'is fun'))"
   ]
  },
  {
   "cell_type": "markdown",
   "id": "bacd28c9",
   "metadata": {},
   "source": [
    "**COLLECTION [LISTS,SET,TOUPLE]**"
   ]
  },
  {
   "cell_type": "markdown",
   "id": "52a53533",
   "metadata": {},
   "source": [
    "**LISTS**"
   ]
  },
  {
   "cell_type": "code",
   "execution_count": 29,
   "id": "4bf200d9",
   "metadata": {},
   "outputs": [
    {
     "name": "stdout",
     "output_type": "stream",
     "text": [
      "apple\n",
      "grape\n",
      "['apple', 'banana', 'orange', 'grape', 'mango', 'lemon']\n",
      "['apple', 'banana', 'orange', 'grape', 'mango']\n",
      "5\n",
      "['mango', 'grape', 'orange', 'banana', 'apple']\n",
      "None\n",
      "Banana is in fruits list\n",
      "['apple', 'banana', 'grape', 'mango', 'orange']\n",
      "0\n",
      "Number of Apple is = 1\n",
      "None\n",
      "1 2 3 \n",
      "4 5 6 \n",
      "7 8 9 \n",
      "* 0 # \n"
     ]
    }
   ],
   "source": [
    "# Lists are changable, ordered , Duplicates are ok\n",
    "\n",
    "fruits = ['apple', 'banana', 'orange', 'grape']\n",
    "\n",
    "# First fruit\n",
    "print(fruits[0])\n",
    "\n",
    "# Last fruit (robust)\n",
    "print(fruits[-1])\n",
    "\n",
    "# Add mango to the end\n",
    "fruits.append('mango')\n",
    "fruits.insert(5,'lemon')\n",
    "print(fruits)\n",
    "\n",
    "# Remove lemon from the list\n",
    "fruits.remove(\"lemon\")\n",
    "print(fruits)\n",
    "\n",
    "# Length\n",
    "print(len(fruits))\n",
    "\n",
    "# Prints in reverse\n",
    "print(fruits[::-1])\n",
    "print(fruits.reverse())\n",
    "\n",
    "# Membership test\n",
    "if 'banana' in fruits:\n",
    "    print('Banana is in fruits list')\n",
    "\n",
    "# Sort\n",
    "fruits.sort()\n",
    "print(fruits)\n",
    "\n",
    "# Returning index\n",
    "print(fruits.index('apple'))\n",
    "\n",
    "# Counting elments\n",
    "print(f\"Number of Apple is = {fruits.count('apple')}\")\n",
    "\n",
    "# Clear all elements\n",
    "print(fruits.clear())\n",
    "\n",
    "\n",
    "# 2d List\n",
    "\n",
    "num  = (\n",
    "    (1, 2, 3),   # first row\n",
    "    (4, 5, 6),   # second row\n",
    "    (7, 8, 9),    # third row\n",
    "    (\"*\",0,\"#\")\n",
    ")\n",
    "\n",
    "for x in num:       # This will print all the number the the row  \n",
    "    for n in x:     # this will print all the elements\n",
    "        print(n, end = \" \")\n",
    "    print()\n",
    "\n"
   ]
  },
  {
   "cell_type": "markdown",
   "id": "4b87d6b1",
   "metadata": {},
   "source": [
    "**SET**"
   ]
  },
  {
   "cell_type": "code",
   "execution_count": 30,
   "id": "9984a0a3",
   "metadata": {},
   "outputs": [
    {
     "name": "stdout",
     "output_type": "stream",
     "text": [
      "{'grape', 'banana', 'apple', 'orange', 'mango'}\n",
      "{'banana', 'orange', 'mango'}\n",
      "3\n",
      "Banana is in fruits list\n",
      "None\n"
     ]
    }
   ],
   "source": [
    "# Unordered , immutable, No Duplicates, No Indexing\n",
    "\n",
    "fruits = {'apple', 'banana', 'orange', 'grape'}\n",
    "\n",
    "\n",
    "# Add mango\n",
    "fruits.add('mango')\n",
    "print(fruits)\n",
    "\n",
    "# Remove elements from the list\n",
    "fruits.remove(\"apple\")\n",
    "fruits.pop() # Randomly removes Elements\n",
    "print(fruits)\n",
    "\n",
    "# Length\n",
    "print(len(fruits))\n",
    "\n",
    "# Membership test\n",
    "if 'banana' in fruits:\n",
    "    print('Banana is in fruits list')\n",
    "\n",
    "# Clear all Elements\n",
    "print(fruits.clear())\n",
    "\n"
   ]
  },
  {
   "cell_type": "markdown",
   "id": "76102cd9",
   "metadata": {},
   "source": [
    "**TUPLE**"
   ]
  },
  {
   "cell_type": "code",
   "execution_count": 31,
   "id": "f85020ce",
   "metadata": {},
   "outputs": [
    {
     "name": "stdout",
     "output_type": "stream",
     "text": [
      "4\n",
      "Banana is in fruits list\n",
      "0\n",
      "Number of Apple is = 1\n",
      "apple\n",
      "banana\n",
      "orange\n",
      "grape\n"
     ]
    }
   ],
   "source": [
    "# ordered , immutable, Duplicates OK, FASTER\n",
    "\n",
    "fruits = ('apple', 'banana', 'orange', 'grape')\n",
    "\n",
    "# Length\n",
    "print(len(fruits))\n",
    "\n",
    "# Membership test\n",
    "if 'banana' in fruits:\n",
    "    print('Banana is in fruits list')\n",
    "\n",
    "# Returning index\n",
    "print(fruits.index('apple'))\n",
    "\n",
    "# Counting elments\n",
    "print(f\"Number of Apple is = {fruits.count('apple')}\")\n",
    "\n",
    "for x in fruits:\n",
    "    print(x)\n"
   ]
  },
  {
   "cell_type": "code",
   "execution_count": 32,
   "id": "906267e8",
   "metadata": {},
   "outputs": [
    {
     "name": "stdout",
     "output_type": "stream",
     "text": [
      "1\n",
      "2\n",
      "3\n",
      "4\n",
      "5\n"
     ]
    }
   ],
   "source": [
    "def count_to_n(n):\n",
    "    for i in range(1, n + 1):\n",
    "        print(i)\n",
    "\n",
    "count_to_n(5)"
   ]
  },
  {
   "cell_type": "markdown",
   "id": "5b64b551",
   "metadata": {},
   "source": [
    "**BUILT-IN FUNCTION**"
   ]
  },
  {
   "cell_type": "code",
   "execution_count": 33,
   "id": "194df457",
   "metadata": {},
   "outputs": [
    {
     "name": "stdout",
     "output_type": "stream",
     "text": [
      "9\n",
      "1\n",
      "32\n",
      "7\n",
      "[1, 2, 3, 4, 6, 7, 9]\n"
     ]
    }
   ],
   "source": [
    "numbers = [3, 7, 1, 9, 4, 6, 2]\n",
    "\n",
    "print(max(numbers))\n",
    "print(min(numbers))\n",
    "print(sum(numbers))\n",
    "print(len(numbers))\n",
    "print(sorted(numbers))"
   ]
  },
  {
   "cell_type": "markdown",
   "id": "1f9c97c0",
   "metadata": {},
   "source": [
    "**STRING FORMATING**"
   ]
  },
  {
   "cell_type": "code",
   "execution_count": 34,
   "id": "15555d86",
   "metadata": {},
   "outputs": [
    {
     "name": "stdout",
     "output_type": "stream",
     "text": [
      "Hello, my name is Alice, I am 25 years old and I live in New York.\n"
     ]
    }
   ],
   "source": [
    "person_name = 'Alice'\n",
    "person_age = 25\n",
    "person_city = 'New York'\n",
    "\n",
    "print(f\"Hello, my name is {person_name}, I am {person_age} years old and I live in {person_city}.\")"
   ]
  },
  {
   "cell_type": "markdown",
   "id": "8d0aee76",
   "metadata": {},
   "source": [
    "**CALCULATOR**"
   ]
  },
  {
   "cell_type": "code",
   "execution_count": 35,
   "id": "177cbf26",
   "metadata": {},
   "outputs": [
    {
     "name": "stdout",
     "output_type": "stream",
     "text": [
      "10 + 5 = 15\n",
      "20 / 4 = 5.0\n"
     ]
    }
   ],
   "source": [
    "def simple_calculator(num1, operator, num2):\n",
    "    if operator == '+':\n",
    "        return num1 + num2\n",
    "    elif operator == '-':\n",
    "        return num1 - num2\n",
    "    elif operator == '*':\n",
    "        return num1 * num2\n",
    "    elif operator == '/':\n",
    "        if num2 == 0:\n",
    "            return 'Error: division by zero'\n",
    "        return num1 / num2\n",
    "    else:\n",
    "        return 'Error: invalid operator'\n",
    "\n",
    "# tests\n",
    "print('10 + 5 =', simple_calculator(10, '+', 5))\n",
    "print('20 / 4 =', simple_calculator(20, '/', 4))"
   ]
  },
  {
   "cell_type": "markdown",
   "id": "885b3322",
   "metadata": {},
   "source": [
    "**DICTIONARY**"
   ]
  },
  {
   "cell_type": "code",
   "execution_count": 36,
   "id": "51782bcf",
   "metadata": {},
   "outputs": [
    {
     "name": "stdout",
     "output_type": "stream",
     "text": [
      "Nehal\n",
      "Exist\n",
      "{'name': 'Nehal', 'age': 21, 'department': 'CSIT', 'session': '22-23'}\n",
      "{'name': 'Nehal', 'department': 'CSIT', 'session': '22-23'}\n",
      "{'name': 'Nehal', 'department': 'CSIT'}\n",
      "dict_keys(['name', 'department'])\n",
      "dict_values(['Nehal', 'CSIT'])\n",
      "{}\n"
     ]
    }
   ],
   "source": [
    "# {key : value}, No Duplicate\n",
    "\n",
    "student = {\n",
    "    \"name\": \"Nehal\",\n",
    "    \"age\": 21,\n",
    "    \"department\": \"CSIT\"\n",
    "}\n",
    "\n",
    "print(student[\"name\"])   # Output: Nehal\n",
    "\n",
    "# Checking if the Elemet is there \n",
    "if student.get(\"name\"):\n",
    "    print(\"Exist\")\n",
    "else:\n",
    "    print(\"Null\")\n",
    "\n",
    "# Add an Element   \n",
    "student.update({\"session\" : \"22-23\"})\n",
    "print(student)\n",
    "\n",
    "# Remove an  Element\n",
    "student.pop(\"age\")\n",
    "print(student)\n",
    "student.popitem()  # Remove Latest Element\n",
    "print(student)\n",
    "\n",
    "# Getting all keys\n",
    "keys = student.keys()\n",
    "print(keys)\n",
    "\n",
    "# Getting all values \n",
    "val = student.values()\n",
    "print(val)\n",
    "\n",
    "# Clear all Elements \n",
    "student.clear()\n",
    "print(student)\n"
   ]
  }
 ],
 "metadata": {
  "kernelspec": {
   "display_name": "myenv",
   "language": "python",
   "name": "python3"
  },
  "language_info": {
   "codemirror_mode": {
    "name": "ipython",
    "version": 3
   },
   "file_extension": ".py",
   "mimetype": "text/x-python",
   "name": "python",
   "nbconvert_exporter": "python",
   "pygments_lexer": "ipython3",
   "version": "3.13.3"
  }
 },
 "nbformat": 4,
 "nbformat_minor": 5
}
